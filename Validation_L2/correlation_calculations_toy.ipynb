{
 "cells": [
  {
   "cell_type": "code",
   "execution_count": null,
   "metadata": {},
   "outputs": [],
   "source": [
    "import math \n",
    "from random import seed\n",
    "from random import random\n",
    "import ROOT\n",
    "# seed random number generator\n",
    "seed(1)\n",
    "# generate some random numbers\n",
    "\n",
    "def randErr(fcorr):\n",
    "\n",
    "    X0m = 0\n",
    "    X12m = 0\n",
    "    X1m = 0\n",
    "    X2m = 0\n",
    "    X11m = 0\n",
    "    X22m = 0\n",
    "\n",
    "    corr = fcorr\n",
    "    f = math.sqrt((1-corr)/corr)\n",
    "\n",
    "    mu = 0.5*(1+f)\n",
    "    sigma = math.sqrt(1/3. - 1/4.)*math.sqrt(1+f**2)\n",
    "\n",
    "#    print f, mu, sigma, 2**2\n",
    "    \n",
    "    n=10000\n",
    "    for i in range(1, n):\n",
    "        X0 = random()\n",
    "        X1 = X0+f*random()\n",
    "        X2 = X0+f*random()\n",
    "\n",
    "        X11m = X11m+X1*X1\n",
    "        X22m = X22m+X2*X2\n",
    "        X12m = X12m+X1*X2\n",
    "\n",
    "        X0m = X0m+X0\n",
    "        X1m = X1m+X1\n",
    "        X2m = X2m+X2\n",
    "\n",
    "\n",
    "    X22m = X22m/n\n",
    "    X11m = X11m/n\n",
    "    X12m = X12m/n\n",
    "    X1m = X1m/n\n",
    "    X2m = X2m/n\n",
    "    X0m = X0m/n\n",
    "\n",
    "        \n",
    "    X1var = X11m - X1m*X1m    \n",
    "    X2var = X22m - X2m*X2m\n",
    "    X12cov = (X12m - X1m*X2m)\n",
    "    X12corr = X12cov/math.sqrt(X1var*X2var)    \n",
    "\n",
    "\n",
    "#print('X1m = {:f} '.format(X1m), 'X2m = {:f} '.format(X2m), 'X0m = {:f} '.format(X0m))\n",
    "#    print('X1var = {:f} '.format(X1var), 'X2var = {:f} '.format(X2var), ' X12cov = {:f}'.format(X12cov)) \n",
    "#print('X12corr = {:f}'.format(X12corr), ' original corr = ', corr)\n",
    "\n",
    "\n",
    "#print('mu = {:f} '.format(mu), 'X1m = {:f} '.format(X1m), 'diff = {:f} '.format(mu-X1m), 'err = {:f} '.format(err))\n",
    "\n",
    "    err = sigma/math.sqrt(n)\n",
    "    diff = X2m-X1m\n",
    "    err_diff = math.sqrt(2.)*err*math.sqrt(1-corr)\n",
    "\n",
    "    diffSigma = math.sqrt(X1var)-math.sqrt(X2var)\n",
    "    \n",
    "    #print math.sqrt(X1var), ' rms exp ', sigma \n",
    "    #print diffSigma, ' ', diffSigma/(math.sqrt(2.)*math.sqrt(1-corr))\n",
    "    varDiffErr = sigma-math.sqrt(X1var)\n",
    "    \n",
    "#    *math.sqrt((1-corr))\n",
    "    return [diff/err_diff, diffSigma/(err*math.sqrt(2.)*math.sqrt(1-corr))]\n",
    "    \n",
    "#print('Final comparison diff = {:f} '.format(diff), 'err_diff = {:f} '.format(err_diff), 'rate = {:f} '.format(diff/err_diff))\n",
    "\n",
    "\n",
    "\n"
   ]
  },
  {
   "cell_type": "code",
   "execution_count": 19,
   "metadata": {},
   "outputs": [
    {
     "data": {
      "text/plain": [
       "[0.3006743168270168, 0.9445846612703421]"
      ]
     },
     "execution_count": 19,
     "metadata": {},
     "output_type": "execute_result"
    }
   ],
   "source": [
    "fcorr=0.997\n",
    "randErr(fcorr)\n",
    "randErr(fcorr)"
   ]
  },
  {
   "cell_type": "code",
   "execution_count": 20,
   "metadata": {},
   "outputs": [
    {
     "name": "stderr",
     "output_type": "stream",
     "text": [
      "Warning in <TROOT::Append>: Replacing existing TH1: eHist (Potential memory leak).\n",
      "Warning in <TROOT::Append>: Replacing existing TH1: eRMSHist (Potential memory leak).\n"
     ]
    }
   ],
   "source": [
    "eHist = ROOT.TH1F(\"eHist\", \"X1 and X2 DeltaMean uncertainty with corr = \"+str(fcorr), 20, -4, 4)\n",
    "eDiffRMSHist = ROOT.TH1F(\"eRMSHist\", \"X1 and X2 DeltaRMS uncertainty with corr = \"+str(fcorr), 20, -4, 4)\n"
   ]
  },
  {
   "cell_type": "code",
   "execution_count": 21,
   "metadata": {},
   "outputs": [],
   "source": [
    "for i in range(1, 10000):\n",
    "    res = randErr(fcorr)\n",
    "    eHist.Fill(res[0])\n",
    "    eDiffRMSHist.Fill(res[1])\n"
   ]
  },
  {
   "cell_type": "code",
   "execution_count": 22,
   "metadata": {},
   "outputs": [
    {
     "name": "stderr",
     "output_type": "stream",
     "text": [
      "Warning in <TCanvas::Constructor>: Deleting canvas with same name: canv\n",
      "Info in <TCanvas::Print>: pdf file ToyCorrelations0.997.pdf has been created\n"
     ]
    },
    {
     "data": {
      "image/png": "[encoded data removed]",
      "text/plain": [
       "<IPython.core.display.Image object>"
      ]
     },
     "metadata": {},
     "output_type": "display_data"
    }
   ],
   "source": [
    "canv = ROOT.TCanvas(\"canv\", \"canv\")\n",
    "canv.Draw()\n",
    "canv.Divide(2)\n",
    "canv.cd(1)\n",
    "\n",
    "eHist.SetXTitle('(Mean1 - Mean2)/(sigma/sqrt(n=10000)* sqrt(2)*sqrt(1-corr))')\n",
    "eHist.Draw()\n",
    "\n",
    "canv.cd(2)\n",
    "eDiffRMSHist.SetXTitle('(rms1 - rms2)/(sigma/sqrt(n=10000) * sqrt(2)*sqrt(1-corr))')\n",
    "\n",
    "eDiffRMSHist.Draw()\n",
    "\n",
    "canv.SaveAs('ToyCorrelations'+str(fcorr)+'.pdf')\n"
   ]
  },
  {
   "cell_type": "code",
   "execution_count": 38,
   "metadata": {},
   "outputs": [
    {
     "name": "stderr",
     "output_type": "stream",
     "text": [
      "Warning in <TCanvas::Constructor>: Deleting canvas with same name: canv\n",
      "Warning in <TROOT::Append>: Replacing existing TH1: hist (Potential memory leak).\n",
      "Info in <TCanvas::Print>: pdf file SimplifiedModel.pdf has been created\n"
     ]
    },
    {
     "data": {
      "image/png": "[encoded data removed]",
      "text/plain": [
       "<IPython.core.display.Image object>"
      ]
     },
     "metadata": {},
     "output_type": "display_data"
    }
   ],
   "source": [
    "canva = ROOT.TCanvas(\"canv\", \"canv\")\n",
    "canva.Draw()\n",
    "\n",
    "funcBkg = ROOT.TF1(\"Bkg\", \"1./6\", -4, 4)\n",
    "funcSigBkg = ROOT.TF1(\"SigBkg\", \"1./6+TMath::Gaus(x,0,1)\", -3, 3)\n",
    "\n",
    "funcBkg.SetLineColor(ROOT.kBlue)\n",
    "funcBkg.SetLineStyle(2)\n",
    "\n",
    "hist = ROOT.TH1F(\"hist\", \"Simplified model; variable; arbitrary units\", 1, -4, 4)\n",
    "hist.Draw()\n",
    "hist.SetMaximum(1.5)\n",
    "hist.SetMinimum(0)\n",
    "hist.SetStats(0)\n",
    "\n",
    "funcBkg.Draw('SAME')\n",
    "funcSigBkg.Draw('SAME')\n",
    "\n",
    "latex = ROOT.TLatex()\n",
    "latex.SetTextSize(0.060);\n",
    "latex.SetTextAlign(13); \n",
    "latex.SetTextColor(ROOT.kRed)\n",
    "latex.DrawLatex(-2, 1, 'S+B');\n",
    "\n",
    "latex.SetTextColor(ROOT.kBlue)\n",
    "latex.DrawLatex(-3.6, 0.28, 'B');\n",
    "\n",
    "canva.SaveAs(\"SimplifiedModel.pdf\")\n"
   ]
  },
  {
   "cell_type": "code",
   "execution_count": null,
   "metadata": {},
   "outputs": [],
   "source": []
  }
 ],
 "metadata": {
  "kernelspec": {
   "display_name": "Python 2",
   "language": "python",
   "name": "python2"
  },
  "language_info": {
   "codemirror_mode": {
    "name": "ipython",
    "version": 2
   },
   "file_extension": ".py",
   "mimetype": "text/x-python",
   "name": "python",
   "nbconvert_exporter": "python",
   "pygments_lexer": "ipython2",
   "version": "2.7.13"
  }
 },
 "nbformat": 4,
 "nbformat_minor": 2
}
